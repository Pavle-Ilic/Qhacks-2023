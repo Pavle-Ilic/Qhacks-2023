{
 "cells": [
  {
   "cell_type": "code",
   "execution_count": 1,
   "id": "5f1bf0d9",
   "metadata": {},
   "outputs": [],
   "source": [
    "from PIL import Image\n",
    "import os\n",
    "from os import listdir\n",
    "from pathlib import Path\n",
    "import numpy as np\n",
    "import matplotlib.pyplot as plt"
   ]
  },
  {
   "cell_type": "code",
   "execution_count": 2,
   "id": "75e6a4ef",
   "metadata": {},
   "outputs": [],
   "source": [
    "trueImages = []\n",
    "folder = \"C:/Users/pavle/OneDrive/Desktop/Qhacks/Qhacks-2023/DataSet/real-photos\""
   ]
  },
  {
   "cell_type": "code",
   "execution_count": 8,
   "id": "977a6ed9",
   "metadata": {},
   "outputs": [],
   "source": [
    "for image in os.listdir(folder):\n",
    "    \n",
    "    if image.endswith('.jpg') or image.endswith('.jpeg'):\n",
    "        \n",
    "        full_path = os.path.join(folder, image)\n",
    "        \n",
    "        try:\n",
    "            \n",
    "            im = Image.open(full_path)\n",
    "            \n",
    "            im = im.resize((224,224))\n",
    "            \n",
    "            im_np = np.array(im)\n",
    "            \n",
    "            im_np = np.clip(im_np, 0, 255)\n",
    "            \n",
    "            trueImages.append(im_np)\n",
    "            \n",
    "        except Exception as e:\n",
    "            \n",
    "            print(f\"Error loading image {image}: {e}\")\n",
    "\n",
    "trueImages_np = np.array(trueImages)\n",
    "\n",
    "mean = trueImages_np.mean()\n",
    "\n",
    "std = trueImages_np.std()\n",
    "\n",
    "trueImages_np = (trueImages_np - mean) / std"
   ]
  },
  {
   "cell_type": "code",
   "execution_count": 10,
   "id": "30d2822c",
   "metadata": {},
   "outputs": [],
   "source": [
    "#for i in range(len(trueImages)):\n",
    "    # Display the current image\n",
    "    #plt.imshow(trueImages[i])\n",
    "    #plt.show()"
   ]
  },
  {
   "cell_type": "code",
   "execution_count": 14,
   "id": "b04ff459",
   "metadata": {},
   "outputs": [],
   "source": [
    "falseImages = []\n",
    "folder = \"C:/Users/pavle/OneDrive/Desktop/Qhacks/Qhacks-2023/DataSet/false-photos\""
   ]
  },
  {
   "cell_type": "code",
   "execution_count": 15,
   "id": "f658c214",
   "metadata": {},
   "outputs": [],
   "source": [
    "for image in os.listdir(folder):\n",
    "    \n",
    "    if image.endswith('.jpg') or image.endswith('.jpeg'):\n",
    "        \n",
    "        full_path = os.path.join(folder, image)\n",
    "        \n",
    "        try:\n",
    "            \n",
    "            im = Image.open(full_path)\n",
    "            \n",
    "            im = im.resize((224,224))\n",
    "            \n",
    "            im_np = np.array(im)\n",
    "            \n",
    "            im_np = np.clip(im_np, 0, 255)\n",
    "            \n",
    "            falseImages.append(im_np)\n",
    "            \n",
    "        except Exception as e:\n",
    "            \n",
    "            print(f\"Error loading image {image}: {e}\")\n",
    "\n",
    "falseImages_np = np.array(falseImages)\n",
    "\n",
    "mean = falseImages_np.mean()\n",
    "\n",
    "std = falseImages_np.std()\n",
    "\n",
    "falseImages_np = (falseImages - mean) / std"
   ]
  },
  {
   "cell_type": "code",
   "execution_count": 18,
   "id": "4feff5fd",
   "metadata": {},
   "outputs": [],
   "source": [
    "#for i in range(len(falseImages)):\n",
    "    # Display the current image\n",
    "    #plt.imshow(falseImages[i])\n",
    "    #plt.show()"
   ]
  },
  {
   "cell_type": "code",
   "execution_count": null,
   "id": "2c75fcba",
   "metadata": {},
   "outputs": [],
   "source": []
  }
 ],
 "metadata": {
  "kernelspec": {
   "display_name": "Python 3",
   "language": "python",
   "name": "python3"
  },
  "language_info": {
   "codemirror_mode": {
    "name": "ipython",
    "version": 3
   },
   "file_extension": ".py",
   "mimetype": "text/x-python",
   "name": "python",
   "nbconvert_exporter": "python",
   "pygments_lexer": "ipython3",
   "version": "3.8.8"
  }
 },
 "nbformat": 4,
 "nbformat_minor": 5
}
